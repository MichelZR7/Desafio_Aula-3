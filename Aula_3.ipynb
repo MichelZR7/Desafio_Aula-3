{
  "nbformat": 4,
  "nbformat_minor": 0,
  "metadata": {
    "colab": {
      "provenance": [],
      "authorship_tag": "ABX9TyP7LawakF7jXkO390FuKtBQ",
      "include_colab_link": true
    },
    "kernelspec": {
      "name": "python3",
      "display_name": "Python 3"
    },
    "language_info": {
      "name": "python"
    }
  },
  "cells": [
    {
      "cell_type": "markdown",
      "metadata": {
        "id": "view-in-github",
        "colab_type": "text"
      },
      "source": [
        "<a href=\"https://colab.research.google.com/github/MichelZR7/Desafio_Aula-3/blob/main/Aula_3.ipynb\" target=\"_parent\"><img src=\"https://colab.research.google.com/assets/colab-badge.svg\" alt=\"Open In Colab\"/></a>"
      ]
    },
    {
      "cell_type": "code",
      "execution_count": 26,
      "metadata": {
        "id": "EIYJNSGRoqxZ"
      },
      "outputs": [],
      "source": [
        "!pip install -q -U google-generativeai"
      ]
    },
    {
      "cell_type": "code",
      "source": [
        "import google.generativeai as genai\n",
        "from google.colab import userdata\n",
        "api_key = userdata.get('SECRET_KEY')\n",
        "GOOGLE_API_KEY='api_key'\n",
        "genai.configure(api_key=api_key)"
      ],
      "metadata": {
        "id": "dJ1WaOgTsK-H"
      },
      "execution_count": 25,
      "outputs": []
    },
    {
      "cell_type": "code",
      "source": [
        "for m in genai.list_models():\n",
        "  if 'generateContent' in m.supported_generation_methods:\n",
        "    print(m.name)"
      ],
      "metadata": {
        "colab": {
          "base_uri": "https://localhost:8080/",
          "height": 138
        },
        "id": "QDGgTDFDs24p",
        "outputId": "b63e8997-e099-40ea-a292-c8329991ebbf"
      },
      "execution_count": 27,
      "outputs": [
        {
          "output_type": "stream",
          "name": "stdout",
          "text": [
            "models/gemini-1.0-pro\n",
            "models/gemini-1.0-pro-001\n",
            "models/gemini-1.0-pro-latest\n",
            "models/gemini-1.0-pro-vision-latest\n",
            "models/gemini-1.5-pro-latest\n",
            "models/gemini-pro\n",
            "models/gemini-pro-vision\n"
          ]
        }
      ]
    },
    {
      "cell_type": "code",
      "source": [
        "generation_config = {\n",
        "  \"candidate_count\": 1,\n",
        "  \"temperature\": 0.5,\n",
        "}"
      ],
      "metadata": {
        "id": "cVR11I1zvdMz"
      },
      "execution_count": 28,
      "outputs": []
    },
    {
      "cell_type": "code",
      "source": [
        "safety_settings={\n",
        "    'HATE': 'BLOCK_NONE',\n",
        "    'HARASSMENT': 'BLOCK_NONE',\n",
        "    'SEXUAL' : 'BLOCK_NONE',\n",
        "    'DANGEROUS' : 'BLOCK_NONE'\n",
        "    }"
      ],
      "metadata": {
        "id": "x-WA53s5wYaf"
      },
      "execution_count": 29,
      "outputs": []
    },
    {
      "cell_type": "markdown",
      "source": [
        "Inicializando o modelo"
      ],
      "metadata": {
        "id": "gw34J5NexrzH"
      }
    },
    {
      "cell_type": "code",
      "source": [
        "model = genai.GenerativeModel(model_name ='gemini-1.5-pro-latest',\n",
        "                              generation_config=generation_config,\n",
        "                              safety_settings=safety_settings,)"
      ],
      "metadata": {
        "id": "pOB-3nP_xuC1"
      },
      "execution_count": 34,
      "outputs": []
    },
    {
      "cell_type": "code",
      "source": [
        "response = model.generate_content('Sugira restaurante self serfice em Atibaia')\n",
        "print(response.text)"
      ],
      "metadata": {
        "colab": {
          "base_uri": "https://localhost:8080/",
          "height": 659
        },
        "id": "bQdtE_YwzGg1",
        "outputId": "6d766ef3-1a1f-4af1-fbaf-672f93106e76"
      },
      "execution_count": 35,
      "outputs": [
        {
          "output_type": "stream",
          "name": "stdout",
          "text": [
            "## Restaurantes Self-Service em Atibaia:\n",
            "\n",
            "Infelizmente, não tenho acesso a informações em tempo real, como cardápios, preços e avaliações de clientes. Por isso, não posso recomendar um restaurante específico. \n",
            "\n",
            "No entanto, posso te ajudar a encontrar opções de restaurantes self-service em Atibaia com base em diferentes critérios:\n",
            "\n",
            "**1. Pesquisas Online:**\n",
            "\n",
            "* **Google Maps:** Pesquise por \"restaurante self-service Atibaia\" e explore as opções no mapa, com fotos, avaliações e informações de contato.\n",
            "* **Sites de avaliação:** Consulte sites como TripAdvisor, Yelp e Google Reviews para ler avaliações de clientes sobre diferentes restaurantes.\n",
            "* **Redes sociais:** Pesquise por hashtags como #Atibaia #Comida #SelfService no Instagram e Facebook para encontrar fotos e recomendações de moradores locais.\n",
            "\n",
            "**2. Tipos de Cozinha:**\n",
            "\n",
            "* **Comida brasileira:** A maioria dos restaurantes self-service em Atibaia oferece comida brasileira tradicional, com opções de carnes, saladas, massas e acompanhamentos.\n",
            "* **Comida internacional:** Algumas opções podem oferecer pratos de outras culinárias, como japonesa, italiana ou árabe.\n",
            "* **Comida vegetariana/vegana:** Verifique se o restaurante oferece opções vegetarianas e veganas no buffet.\n",
            "\n",
            "**3. Localização:**\n",
            "\n",
            "* **Centro da cidade:** Ideal para quem está passeando pelo centro ou precisa de um almoço rápido.\n",
            "* **Bairros:** Explore opções em diferentes bairros, dependendo da sua localização.\n",
            "* **Estrada:** Alguns restaurantes self-service estão localizados às margens das rodovias, sendo uma boa opção para quem está de passagem.\n",
            "\n",
            "**4. Preço:**\n",
            "\n",
            "* **Restaurantes populares:** Oferecem refeições a preços mais acessíveis.\n",
            "* **Restaurantes com maior variedade:** Podem ter preços mais elevados, mas oferecem mais opções de pratos.\n",
            "\n",
            "**Dicas adicionais:**\n",
            "\n",
            "* **Horário de funcionamento:** Verifique o horário de funcionamento do restaurante antes de ir.\n",
            "* **Formas de pagamento:** Certifique-se de que o restaurante aceita a forma de pagamento que você pretende usar.\n",
            "* **Estacionamento:** Verifique se o restaurante oferece estacionamento próprio ou se há opções de estacionamento nas proximidades.\n",
            "\n",
            "**Espero que essas informações te ajudem a encontrar o restaurante self-service ideal em Atibaia!**\n",
            "\n"
          ]
        }
      ]
    },
    {
      "cell_type": "code",
      "source": [
        "chat = model.start_chat(history=[])"
      ],
      "metadata": {
        "id": "qZsqNSHzAoo1"
      },
      "execution_count": 37,
      "outputs": []
    },
    {
      "cell_type": "code",
      "source": [
        "prompt = input('Esperando Prompt: ')\n",
        "\n",
        "while prompt != 'fim':\n",
        "  response = chat.send_message(prompt)\n",
        "  print('Resposta: ', response.text, '\\n')\n",
        "  prompt = input('Esperando Prompt: ')"
      ],
      "metadata": {
        "id": "KVtDukSMBYnI",
        "colab": {
          "base_uri": "https://localhost:8080/"
        },
        "outputId": "36be67e2-243c-4ddd-aadd-da015c26eecf"
      },
      "execution_count": 38,
      "outputs": [
        {
          "name": "stdout",
          "output_type": "stream",
          "text": [
            "Esperando Prompt: fim\n"
          ]
        }
      ]
    }
  ]
}